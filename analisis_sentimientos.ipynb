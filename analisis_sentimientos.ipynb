{
 "cells": [
  {
   "cell_type": "markdown",
   "metadata": {},
   "source": [
    "# TALLER ANALISIS DE SENTIMIENTOS\n",
    "### Juan Rave\n",
    "A continuacion se da respuesta a cada punto en su respectivo orden\n",
    "\n",
    "1. Vamos importar el dataset usando pandas.<br>\n",
    "> * Ten encuenta el .csv no tiene header\n",
    "> * Crea una lista con el nombre de las columnas del header\n",
    "> * imprime los 10 primero tweets usando el metodo head()\n",
    "> * asigna al atributo encoding la codificacion \"ISO-8859-1\"\n",
    "> * Cuales son los descriptores que nos aportan informacion para el analisis de sentimientos?\n",
    "2. usando la funcion head imprime los 5 primero registros con sentimiento positivo.<br>\n",
    "3. usando iloc accedamos al valor del segundo registro, de sentimiento positivo en el campo TEXTO.<br>\n",
    "4. calculemos la longitud del tweet anterior.<br>\n",
    "5. usando iloc accedamos al valor del primer registro, de sentimiento negativo en el campo TEXTO.<br>\n",
    "6. calculemos la longitud del tweet anterior.<br>\n",
    "7. usando el metodo drop() de los DataFrame, elimina los campos que no son necesarios para el analisis de sentimientos, recuerda ajustar un atributo en 1 y otro en True.\n",
    "8. valida si hay filas con nan y en caso de que si usa el metodo .dropna(), ajusta el parametro inplace en True.\n",
    "9. revisemos que la base de datos este balanceada. Cuantos registros hay que la clase positiva, negativa y neutra?\n",
    "10. usando list comprehension asigna a la lista longitudtweets la longitud del texto con los tweets, luego calcula la longitud de la lista\n",
    "11. <br>\n",
    "> * con la lista anterior, usando import numpy as np e import matplotlib.pyplot as plt, crear un histograma. En el eje X del histograma esta la logitud de los tweets y en el eje Y el conteo de Tweets con la longitud dada.<br>\n",
    "12. crea un boxplot con la lista longitudtweets.<br>\n",
    "13. asignar la lista longitudtweets a una columna del DataFrame, llamar la columna \"LONGITUD\"<br>\n",
    "14. En este punto deberias tener tres columnas<br>\n",
    "Nota: en el momento que se creo el dataset Twitter solo admitia un maximo de 140 caracteres<br>\n",
    "15. Imprimir los 10 primeros tweets con mas de 140 caracteres, calcular cuantos hay y buscar 3 posibles razones a esta situacion.<br>\n",
    "16. Prueba las siguientes lineas:<br>\n",
    "<br>\n",
    "from bs4 import BeautifulSoup <br>\n",
    "prueba = BeautifulSoup(df.TEXTO[747], 'lxml')<br>\n",
    "print (prueba.get_text())<br>\n",
    "\n",
    "Que diferencia hay entre el texto sin pasar por el parsing?<br>\n",
    "17. Con las lineas anteriores construir una funcion que reciba una lista, serie o df y aplique el parsing a cada un de los elementos, al final la funcion debe regregar los textos procesados.\n",
    "18. imprimir df.TEXTO[0], las paginas web nos dan informacion sobre los sentimientos?\n",
    "19. usar re.sub(r'ACA VA LA EXPRESION REGULAR PARA ENCONTRAR PAGINAS WEB',' ',df.TEXTO[0])\n",
    "20. las menciones dan informacion sobre los sentimientos?\n",
    "21. usar re.sub(r'ACA VA LA EXPRESION REGULAR PARA ENCONTRAR LAS MENCIONES',' ',df.TEXTO[0])\n",
    "22. vamos a eliminar lops #, numeros y signos de puntuacion. Usar re.sub(r\"[a-zA-Z]\", \" \", df.TEXTO[5204])\n",
    "23. explorar la siguiente expresion regular: re.sub(r\"(.)\\1{2,}\",r'\\1\\1', text5)\n",
    "24. con todo lo visto antes construir una funcion que tome todos los textos y los limpie. Nota: el orden es importante.\n",
    "24. comparar los textos limpios con los sucios\n",
    "25. graficas el boxplot y el histograma del texto limpio\n",
    "26. sobre el texto limpio aplicar CountVectorizer y TfidfVectorizer, para obtener dos modelos de representacion de texto, no sin antes eliminar las stopwords\n",
    "27. cuantos descriptores tenemos? ejemplo: print(len(count_vectorizer.get_feature_names()))\n",
    "28. entrena 3 modelos y ajusta sus hiperparametros, usando lo visto en la reunion anterior. (El detalle del ajuste de hiperparametros se vera en reuniones posteriores)\n",
    "29. aplica PCA y usando la regla de dedo selecciona los nuevos descriptores (regresar a la charla de reduccion de la dimension)\n",
    "30. repite el paso 28 con los nuevos descriptores.\n",
    "31. selecciona tu mejor modelo y guardalo <br>\n",
    "32. usando la API de Twitter descarga 100 tweets sobre un politico, artista, marca o empresa\n",
    "33. aplicale la funcion de preprocesamiento, recuerda que si en tu preprocesamiento usaste PCA, entonces, aca tambien lo debes hacer.\n",
    "33. calcula el porcentaje de sentimientos positivos y negativos sobre tus elecciones del punto 32."
   ]
  },
  {
   "cell_type": "code",
   "execution_count": 3,
   "metadata": {},
   "outputs": [
    {
     "data": {
      "text/html": [
       "<div>\n",
       "<style scoped>\n",
       "    .dataframe tbody tr th:only-of-type {\n",
       "        vertical-align: middle;\n",
       "    }\n",
       "\n",
       "    .dataframe tbody tr th {\n",
       "        vertical-align: top;\n",
       "    }\n",
       "\n",
       "    .dataframe thead th {\n",
       "        text-align: right;\n",
       "    }\n",
       "</style>\n",
       "<table border=\"1\" class=\"dataframe\">\n",
       "  <thead>\n",
       "    <tr style=\"text-align: right;\">\n",
       "      <th></th>\n",
       "      <th>sentimiento</th>\n",
       "      <th>id</th>\n",
       "      <th>fecha</th>\n",
       "      <th>query</th>\n",
       "      <th>usuario</th>\n",
       "      <th>texto</th>\n",
       "    </tr>\n",
       "  </thead>\n",
       "  <tbody>\n",
       "    <tr>\n",
       "      <th>0</th>\n",
       "      <td>0</td>\n",
       "      <td>1467810369</td>\n",
       "      <td>Mon Apr 06 22:19:45 PDT 2009</td>\n",
       "      <td>NO_QUERY</td>\n",
       "      <td>_TheSpecialOne_</td>\n",
       "      <td>@switchfoot http://twitpic.com/2y1zl - Awww, t...</td>\n",
       "    </tr>\n",
       "    <tr>\n",
       "      <th>1</th>\n",
       "      <td>0</td>\n",
       "      <td>1467810672</td>\n",
       "      <td>Mon Apr 06 22:19:49 PDT 2009</td>\n",
       "      <td>NO_QUERY</td>\n",
       "      <td>scotthamilton</td>\n",
       "      <td>is upset that he can't update his Facebook by ...</td>\n",
       "    </tr>\n",
       "    <tr>\n",
       "      <th>2</th>\n",
       "      <td>0</td>\n",
       "      <td>1467810917</td>\n",
       "      <td>Mon Apr 06 22:19:53 PDT 2009</td>\n",
       "      <td>NO_QUERY</td>\n",
       "      <td>mattycus</td>\n",
       "      <td>@Kenichan I dived many times for the ball. Man...</td>\n",
       "    </tr>\n",
       "    <tr>\n",
       "      <th>3</th>\n",
       "      <td>0</td>\n",
       "      <td>1467811184</td>\n",
       "      <td>Mon Apr 06 22:19:57 PDT 2009</td>\n",
       "      <td>NO_QUERY</td>\n",
       "      <td>ElleCTF</td>\n",
       "      <td>my whole body feels itchy and like its on fire</td>\n",
       "    </tr>\n",
       "    <tr>\n",
       "      <th>4</th>\n",
       "      <td>0</td>\n",
       "      <td>1467811193</td>\n",
       "      <td>Mon Apr 06 22:19:57 PDT 2009</td>\n",
       "      <td>NO_QUERY</td>\n",
       "      <td>Karoli</td>\n",
       "      <td>@nationwideclass no, it's not behaving at all....</td>\n",
       "    </tr>\n",
       "    <tr>\n",
       "      <th>5</th>\n",
       "      <td>0</td>\n",
       "      <td>1467811372</td>\n",
       "      <td>Mon Apr 06 22:20:00 PDT 2009</td>\n",
       "      <td>NO_QUERY</td>\n",
       "      <td>joy_wolf</td>\n",
       "      <td>@Kwesidei not the whole crew</td>\n",
       "    </tr>\n",
       "    <tr>\n",
       "      <th>6</th>\n",
       "      <td>0</td>\n",
       "      <td>1467811592</td>\n",
       "      <td>Mon Apr 06 22:20:03 PDT 2009</td>\n",
       "      <td>NO_QUERY</td>\n",
       "      <td>mybirch</td>\n",
       "      <td>Need a hug</td>\n",
       "    </tr>\n",
       "    <tr>\n",
       "      <th>7</th>\n",
       "      <td>0</td>\n",
       "      <td>1467811594</td>\n",
       "      <td>Mon Apr 06 22:20:03 PDT 2009</td>\n",
       "      <td>NO_QUERY</td>\n",
       "      <td>coZZ</td>\n",
       "      <td>@LOLTrish hey  long time no see! Yes.. Rains a...</td>\n",
       "    </tr>\n",
       "    <tr>\n",
       "      <th>8</th>\n",
       "      <td>0</td>\n",
       "      <td>1467811795</td>\n",
       "      <td>Mon Apr 06 22:20:05 PDT 2009</td>\n",
       "      <td>NO_QUERY</td>\n",
       "      <td>2Hood4Hollywood</td>\n",
       "      <td>@Tatiana_K nope they didn't have it</td>\n",
       "    </tr>\n",
       "    <tr>\n",
       "      <th>9</th>\n",
       "      <td>0</td>\n",
       "      <td>1467812025</td>\n",
       "      <td>Mon Apr 06 22:20:09 PDT 2009</td>\n",
       "      <td>NO_QUERY</td>\n",
       "      <td>mimismo</td>\n",
       "      <td>@twittera que me muera ?</td>\n",
       "    </tr>\n",
       "  </tbody>\n",
       "</table>\n",
       "</div>"
      ],
      "text/plain": [
       "   sentimiento          id                         fecha     query  \\\n",
       "0            0  1467810369  Mon Apr 06 22:19:45 PDT 2009  NO_QUERY   \n",
       "1            0  1467810672  Mon Apr 06 22:19:49 PDT 2009  NO_QUERY   \n",
       "2            0  1467810917  Mon Apr 06 22:19:53 PDT 2009  NO_QUERY   \n",
       "3            0  1467811184  Mon Apr 06 22:19:57 PDT 2009  NO_QUERY   \n",
       "4            0  1467811193  Mon Apr 06 22:19:57 PDT 2009  NO_QUERY   \n",
       "5            0  1467811372  Mon Apr 06 22:20:00 PDT 2009  NO_QUERY   \n",
       "6            0  1467811592  Mon Apr 06 22:20:03 PDT 2009  NO_QUERY   \n",
       "7            0  1467811594  Mon Apr 06 22:20:03 PDT 2009  NO_QUERY   \n",
       "8            0  1467811795  Mon Apr 06 22:20:05 PDT 2009  NO_QUERY   \n",
       "9            0  1467812025  Mon Apr 06 22:20:09 PDT 2009  NO_QUERY   \n",
       "\n",
       "           usuario                                              texto  \n",
       "0  _TheSpecialOne_  @switchfoot http://twitpic.com/2y1zl - Awww, t...  \n",
       "1    scotthamilton  is upset that he can't update his Facebook by ...  \n",
       "2         mattycus  @Kenichan I dived many times for the ball. Man...  \n",
       "3          ElleCTF    my whole body feels itchy and like its on fire   \n",
       "4           Karoli  @nationwideclass no, it's not behaving at all....  \n",
       "5         joy_wolf                      @Kwesidei not the whole crew   \n",
       "6          mybirch                                        Need a hug   \n",
       "7             coZZ  @LOLTrish hey  long time no see! Yes.. Rains a...  \n",
       "8  2Hood4Hollywood               @Tatiana_K nope they didn't have it   \n",
       "9          mimismo                          @twittera que me muera ?   "
      ]
     },
     "execution_count": 3,
     "metadata": {},
     "output_type": "execute_result"
    }
   ],
   "source": [
    "# 1. importar los dataset\n",
    "import pandas as pd\n",
    "\n",
    "columns = ['sentimiento', 'id', 'fecha', 'query', 'usuario', 'texto']\n",
    "\n",
    "file_path_train = \"data/training_feeling.csv\"\n",
    "file_path_test = \"data/testdata_feeling.csv\"\n",
    "\n",
    "train_data = pd.read_csv(file_path_train, header=None, names=columns, encoding=\"ISO-8859-1\")\n",
    "test_data = pd.read_csv(file_path_test, header=None, names=columns, encoding=\"ISO-8859-1\")\n",
    "\n",
    "train_data.head(10)"
   ]
  },
  {
   "cell_type": "code",
   "execution_count": 4,
   "metadata": {},
   "outputs": [
    {
     "data": {
      "text/plain": [
       "(1600000, 6)"
      ]
     },
     "execution_count": 4,
     "metadata": {},
     "output_type": "execute_result"
    }
   ],
   "source": [
    "train_data.shape"
   ]
  },
  {
   "cell_type": "markdown",
   "metadata": {},
   "source": [
    "#### Para el analisis de sentimientos los descriptores que nos aportan mayor informacion son el texto y posiblemente la fecha, extrayendo la hora, debido a que es factible encontrar algun patron que nos permita inferiri las horas en las cuales las personas estan mas propensas a tener ciertos sentimientos "
   ]
  },
  {
   "cell_type": "code",
   "execution_count": 5,
   "metadata": {},
   "outputs": [
    {
     "data": {
      "text/html": [
       "<div>\n",
       "<style scoped>\n",
       "    .dataframe tbody tr th:only-of-type {\n",
       "        vertical-align: middle;\n",
       "    }\n",
       "\n",
       "    .dataframe tbody tr th {\n",
       "        vertical-align: top;\n",
       "    }\n",
       "\n",
       "    .dataframe thead th {\n",
       "        text-align: right;\n",
       "    }\n",
       "</style>\n",
       "<table border=\"1\" class=\"dataframe\">\n",
       "  <thead>\n",
       "    <tr style=\"text-align: right;\">\n",
       "      <th></th>\n",
       "      <th>sentimiento</th>\n",
       "      <th>id</th>\n",
       "      <th>fecha</th>\n",
       "      <th>query</th>\n",
       "      <th>usuario</th>\n",
       "      <th>texto</th>\n",
       "    </tr>\n",
       "  </thead>\n",
       "  <tbody>\n",
       "    <tr>\n",
       "      <th>800000</th>\n",
       "      <td>4</td>\n",
       "      <td>1467822272</td>\n",
       "      <td>Mon Apr 06 22:22:45 PDT 2009</td>\n",
       "      <td>NO_QUERY</td>\n",
       "      <td>ersle</td>\n",
       "      <td>I LOVE @Health4UandPets u guys r the best!!</td>\n",
       "    </tr>\n",
       "    <tr>\n",
       "      <th>800001</th>\n",
       "      <td>4</td>\n",
       "      <td>1467822273</td>\n",
       "      <td>Mon Apr 06 22:22:45 PDT 2009</td>\n",
       "      <td>NO_QUERY</td>\n",
       "      <td>becca210</td>\n",
       "      <td>im meeting up with one of my besties tonight! ...</td>\n",
       "    </tr>\n",
       "    <tr>\n",
       "      <th>800002</th>\n",
       "      <td>4</td>\n",
       "      <td>1467822283</td>\n",
       "      <td>Mon Apr 06 22:22:46 PDT 2009</td>\n",
       "      <td>NO_QUERY</td>\n",
       "      <td>Wingman29</td>\n",
       "      <td>@DaRealSunisaKim Thanks for the Twitter add, S...</td>\n",
       "    </tr>\n",
       "    <tr>\n",
       "      <th>800003</th>\n",
       "      <td>4</td>\n",
       "      <td>1467822287</td>\n",
       "      <td>Mon Apr 06 22:22:46 PDT 2009</td>\n",
       "      <td>NO_QUERY</td>\n",
       "      <td>katarinka</td>\n",
       "      <td>Being sick can be really cheap when it hurts t...</td>\n",
       "    </tr>\n",
       "    <tr>\n",
       "      <th>800004</th>\n",
       "      <td>4</td>\n",
       "      <td>1467822293</td>\n",
       "      <td>Mon Apr 06 22:22:46 PDT 2009</td>\n",
       "      <td>NO_QUERY</td>\n",
       "      <td>_EmilyYoung</td>\n",
       "      <td>@LovesBrooklyn2 he has that effect on everyone</td>\n",
       "    </tr>\n",
       "  </tbody>\n",
       "</table>\n",
       "</div>"
      ],
      "text/plain": [
       "        sentimiento          id                         fecha     query  \\\n",
       "800000            4  1467822272  Mon Apr 06 22:22:45 PDT 2009  NO_QUERY   \n",
       "800001            4  1467822273  Mon Apr 06 22:22:45 PDT 2009  NO_QUERY   \n",
       "800002            4  1467822283  Mon Apr 06 22:22:46 PDT 2009  NO_QUERY   \n",
       "800003            4  1467822287  Mon Apr 06 22:22:46 PDT 2009  NO_QUERY   \n",
       "800004            4  1467822293  Mon Apr 06 22:22:46 PDT 2009  NO_QUERY   \n",
       "\n",
       "            usuario                                              texto  \n",
       "800000        ersle       I LOVE @Health4UandPets u guys r the best!!   \n",
       "800001     becca210  im meeting up with one of my besties tonight! ...  \n",
       "800002    Wingman29  @DaRealSunisaKim Thanks for the Twitter add, S...  \n",
       "800003    katarinka  Being sick can be really cheap when it hurts t...  \n",
       "800004  _EmilyYoung    @LovesBrooklyn2 he has that effect on everyone   "
      ]
     },
     "execution_count": 5,
     "metadata": {},
     "output_type": "execute_result"
    }
   ],
   "source": [
    "# 2 imprimir los primeros cinto sentimientos positivos\n",
    "train_data[train_data.sentimiento == 4].head(5)\n"
   ]
  },
  {
   "cell_type": "code",
   "execution_count": 6,
   "metadata": {},
   "outputs": [
    {
     "name": "stdout",
     "output_type": "stream",
     "text": [
      "im meeting up with one of my besties tonight! Cant wait!!  - GIRL TALK!!\n"
     ]
    }
   ],
   "source": [
    "# 3. usando iloc accedamos al valor del segundo registro, de sentimiento positivo en el campo TEXTO\n",
    "tweet_ = train_data[train_data.sentimiento == 4].iloc[1].texto\n",
    "print(tweet_)"
   ]
  },
  {
   "cell_type": "code",
   "execution_count": 7,
   "metadata": {},
   "outputs": [
    {
     "data": {
      "text/plain": [
       "72"
      ]
     },
     "execution_count": 7,
     "metadata": {},
     "output_type": "execute_result"
    }
   ],
   "source": [
    "# 4.  calculemos la longitud del tweet anterior.\n",
    "len(tweet_)"
   ]
  },
  {
   "cell_type": "code",
   "execution_count": 8,
   "metadata": {},
   "outputs": [
    {
     "name": "stdout",
     "output_type": "stream",
     "text": [
      "@switchfoot http://twitpic.com/2y1zl - Awww, that's a bummer.  You shoulda got David Carr of Third Day to do it. ;D\n"
     ]
    }
   ],
   "source": [
    "# 5. usando iloc accedamos al valor del primer registro, de sentimiento negativo en el campo TEXTO\n",
    "tweet_ = train_data[train_data.sentimiento == 0].iloc[0].texto\n",
    "print(tweet_)"
   ]
  },
  {
   "cell_type": "code",
   "execution_count": 9,
   "metadata": {},
   "outputs": [
    {
     "data": {
      "text/plain": [
       "115"
      ]
     },
     "execution_count": 9,
     "metadata": {},
     "output_type": "execute_result"
    }
   ],
   "source": [
    "# 6. calculemos la longitud del tweet anterior\n",
    "len(tweet_)"
   ]
  },
  {
   "cell_type": "code",
   "execution_count": 10,
   "metadata": {},
   "outputs": [],
   "source": [
    "# 7. usando el metodo drop() de los DataFrame, elimina los campos que no son necesarios para el analisis de sentimientos, recuerda ajustar un atributo en 1 y otro en True.\n",
    "# eliminamos las columnas que no vamos a usar\n",
    "train_data.drop(['fecha', 'query', 'usuario', 'id'], axis=1, inplace=True)"
   ]
  },
  {
   "cell_type": "code",
   "execution_count": 11,
   "metadata": {},
   "outputs": [],
   "source": [
    "# 8. valida si hay filas con nan y en caso de que si usa el metodo .dropna(), ajusta el parametro inplace en True.\n",
    "train_data.dropna(inplace=True)"
   ]
  },
  {
   "cell_type": "code",
   "execution_count": 12,
   "metadata": {},
   "outputs": [
    {
     "data": {
      "text/plain": [
       "4    800000\n",
       "0    800000\n",
       "Name: sentimiento, dtype: int64"
      ]
     },
     "execution_count": 12,
     "metadata": {},
     "output_type": "execute_result"
    }
   ],
   "source": [
    "# 9. revisemos que la base de datos este balanceada. Cuantos registros hay que la clase positiva, negativa y neutra?\n",
    "train_data.sentimiento.value_counts()"
   ]
  },
  {
   "cell_type": "markdown",
   "metadata": {},
   "source": [
    "#### tenemos 800.000 registros positivos y la misma cantidad negativa"
   ]
  },
  {
   "cell_type": "code",
   "execution_count": 13,
   "metadata": {},
   "outputs": [
    {
     "name": "stdout",
     "output_type": "stream",
     "text": [
      "1600000\n"
     ]
    }
   ],
   "source": [
    "# 10. usando list comprehension asigna a la lista longitudtweets la longitud del texto con los tweets,\n",
    "longitudtweets = [len(text) for text in train_data.texto]\n",
    "\n",
    "# luego calcula la longitud de la lista\n",
    "print(len(longitudtweets))"
   ]
  },
  {
   "cell_type": "code",
   "execution_count": 14,
   "metadata": {},
   "outputs": [
    {
     "data": {
      "text/plain": [
       "(array([3.79204e+05, 5.57826e+05, 3.78988e+05, 2.82844e+05, 9.78000e+02,\n",
       "        9.80000e+01, 3.80000e+01, 1.30000e+01, 6.00000e+00, 5.00000e+00]),\n",
       " array([  6. ,  42.8,  79.6, 116.4, 153.2, 190. , 226.8, 263.6, 300.4,\n",
       "        337.2, 374. ]),\n",
       " <a list of 10 Patch objects>)"
      ]
     },
     "execution_count": 14,
     "metadata": {},
     "output_type": "execute_result"
    }
   ],
   "source": [
    "# 11. con la lista anterior, usando import numpy as np e import matplotlib.pyplot as plt, \n",
    "# crear un histograma. En el eje X del histograma esta la logitud de los tweets y en el eje Y \n",
    "# el conteo de Tweets con la longitud dada.\n",
    "import numpy as np \n",
    "import matplotlib.pyplot as plt\n",
    "\n",
    "plt.hist(longitudtweets)"
   ]
  },
  {
   "cell_type": "code",
   "execution_count": 15,
   "metadata": {},
   "outputs": [
    {
     "data": {
      "text/plain": [
       "<matplotlib.axes._subplots.AxesSubplot at 0x12d781c50>"
      ]
     },
     "execution_count": 15,
     "metadata": {},
     "output_type": "execute_result"
    },
    {
     "data": {
      "image/png": "[encoded data removed]",
      "text/plain": [
       "<Figure size 432x288 with 1 Axes>"
      ]
     },
     "metadata": {},
     "output_type": "display_data"
    }
   ],
   "source": [
    "import seaborn as sns\n",
    "sns.set(style=\"whitegrid\")\n",
    "\n",
    "sns.distplot(longitudtweets, kde=True)"
   ]
  },
  {
   "cell_type": "code",
   "execution_count": 16,
   "metadata": {},
   "outputs": [
    {
     "data": {
      "text/plain": [
       "<matplotlib.axes._subplots.AxesSubplot at 0x12d781c18>"
      ]
     },
     "execution_count": 16,
     "metadata": {},
     "output_type": "execute_result"
    },
    {
     "data": {
      "image/png": "[encoded data removed]",
      "text/plain": [
       "<Figure size 432x288 with 1 Axes>"
      ]
     },
     "metadata": {},
     "output_type": "display_data"
    }
   ],
   "source": [
    "# 12. crea un boxplot con la lista longitudtweets.\n",
    "sns.boxplot(longitudtweets, orient=\"h\")"
   ]
  },
  {
   "cell_type": "code",
   "execution_count": 17,
   "metadata": {},
   "outputs": [
    {
     "data": {
      "text/html": [
       "<div>\n",
       "<style scoped>\n",
       "    .dataframe tbody tr th:only-of-type {\n",
       "        vertical-align: middle;\n",
       "    }\n",
       "\n",
       "    .dataframe tbody tr th {\n",
       "        vertical-align: top;\n",
       "    }\n",
       "\n",
       "    .dataframe thead th {\n",
       "        text-align: right;\n",
       "    }\n",
       "</style>\n",
       "<table border=\"1\" class=\"dataframe\">\n",
       "  <thead>\n",
       "    <tr style=\"text-align: right;\">\n",
       "      <th></th>\n",
       "      <th>sentimiento</th>\n",
       "      <th>texto</th>\n",
       "      <th>longitud</th>\n",
       "    </tr>\n",
       "  </thead>\n",
       "  <tbody>\n",
       "    <tr>\n",
       "      <th>0</th>\n",
       "      <td>0</td>\n",
       "      <td>@switchfoot http://twitpic.com/2y1zl - Awww, t...</td>\n",
       "      <td>115</td>\n",
       "    </tr>\n",
       "  </tbody>\n",
       "</table>\n",
       "</div>"
      ],
      "text/plain": [
       "   sentimiento                                              texto  longitud\n",
       "0            0  @switchfoot http://twitpic.com/2y1zl - Awww, t...       115"
      ]
     },
     "execution_count": 17,
     "metadata": {},
     "output_type": "execute_result"
    }
   ],
   "source": [
    "# 13. asignar la lista longitudtweets a una columna del DataFrame, llamar la columna \"LONGITUD\"\n",
    "train_data[\"longitud\"] = longitudtweets\n",
    "train_data.head(1)"
   ]
  },
  {
   "cell_type": "code",
   "execution_count": 18,
   "metadata": {},
   "outputs": [],
   "source": [
    "# 14. En este punto deberias tener tres columnas\n",
    "# Nota: en el momento que se creo el dataset Twitter solo admitia un maximo de 140 caracteres"
   ]
  },
  {
   "cell_type": "code",
   "execution_count": 19,
   "metadata": {},
   "outputs": [
    {
     "data": {
      "text/html": [
       "<div>\n",
       "<style scoped>\n",
       "    .dataframe tbody tr th:only-of-type {\n",
       "        vertical-align: middle;\n",
       "    }\n",
       "\n",
       "    .dataframe tbody tr th {\n",
       "        vertical-align: top;\n",
       "    }\n",
       "\n",
       "    .dataframe thead th {\n",
       "        text-align: right;\n",
       "    }\n",
       "</style>\n",
       "<table border=\"1\" class=\"dataframe\">\n",
       "  <thead>\n",
       "    <tr style=\"text-align: right;\">\n",
       "      <th></th>\n",
       "      <th>sentimiento</th>\n",
       "      <th>texto</th>\n",
       "      <th>longitud</th>\n",
       "    </tr>\n",
       "  </thead>\n",
       "  <tbody>\n",
       "    <tr>\n",
       "      <th>213</th>\n",
       "      <td>0</td>\n",
       "      <td>Awwh babs... you look so sad underneith that s...</td>\n",
       "      <td>142</td>\n",
       "    </tr>\n",
       "    <tr>\n",
       "      <th>226</th>\n",
       "      <td>0</td>\n",
       "      <td>Tuesdayï¿½ll start with reflection ï¿½n then a...</td>\n",
       "      <td>141</td>\n",
       "    </tr>\n",
       "    <tr>\n",
       "      <th>279</th>\n",
       "      <td>0</td>\n",
       "      <td>Whinging. My client&amp;amp;boss don't understand ...</td>\n",
       "      <td>145</td>\n",
       "    </tr>\n",
       "    <tr>\n",
       "      <th>343</th>\n",
       "      <td>0</td>\n",
       "      <td>@TheLeagueSF Not Fun &amp;amp; Furious? The new ma...</td>\n",
       "      <td>145</td>\n",
       "    </tr>\n",
       "    <tr>\n",
       "      <th>400</th>\n",
       "      <td>0</td>\n",
       "      <td>#3 woke up and was having an accident - &amp;quot;...</td>\n",
       "      <td>144</td>\n",
       "    </tr>\n",
       "    <tr>\n",
       "      <th>464</th>\n",
       "      <td>0</td>\n",
       "      <td>My bathtub drain is fired: it haz 1 job 2 do, ...</td>\n",
       "      <td>146</td>\n",
       "    </tr>\n",
       "    <tr>\n",
       "      <th>492</th>\n",
       "      <td>0</td>\n",
       "      <td>pears &amp;amp; Brie, bottle of Cabernet, and &amp;quo...</td>\n",
       "      <td>150</td>\n",
       "    </tr>\n",
       "    <tr>\n",
       "      <th>747</th>\n",
       "      <td>0</td>\n",
       "      <td>Have an invite for &amp;quot;Healthy Dining&amp;quot; ...</td>\n",
       "      <td>141</td>\n",
       "    </tr>\n",
       "    <tr>\n",
       "      <th>957</th>\n",
       "      <td>0</td>\n",
       "      <td>Damnit I was really digging this season of Rea...</td>\n",
       "      <td>141</td>\n",
       "    </tr>\n",
       "    <tr>\n",
       "      <th>1064</th>\n",
       "      <td>0</td>\n",
       "      <td>Why do I keep looking...I know that what I rea...</td>\n",
       "      <td>141</td>\n",
       "    </tr>\n",
       "  </tbody>\n",
       "</table>\n",
       "</div>"
      ],
      "text/plain": [
       "      sentimiento                                              texto  longitud\n",
       "213             0  Awwh babs... you look so sad underneith that s...       142\n",
       "226             0  Tuesdayï¿½ll start with reflection ï¿½n then a...       141\n",
       "279             0  Whinging. My client&amp;boss don't understand ...       145\n",
       "343             0  @TheLeagueSF Not Fun &amp; Furious? The new ma...       145\n",
       "400             0  #3 woke up and was having an accident - &quot;...       144\n",
       "464             0  My bathtub drain is fired: it haz 1 job 2 do, ...       146\n",
       "492             0  pears &amp; Brie, bottle of Cabernet, and &quo...       150\n",
       "747             0  Have an invite for &quot;Healthy Dining&quot; ...       141\n",
       "957             0  Damnit I was really digging this season of Rea...       141\n",
       "1064            0  Why do I keep looking...I know that what I rea...       141"
      ]
     },
     "execution_count": 19,
     "metadata": {},
     "output_type": "execute_result"
    }
   ],
   "source": [
    "# 15. Imprimir los 10 primeros tweets con mas de 140 caracteres, calcular cuantos hay y \n",
    "# buscar 3 posibles razones a esta situacion.\n",
    "train_data[train_data.longitud > 140].head(10)"
   ]
  },
  {
   "cell_type": "code",
   "execution_count": 20,
   "metadata": {},
   "outputs": [
    {
     "name": "stdout",
     "output_type": "stream",
     "text": [
      "El numero total de tweet con mas de 140 caracteres es: 17174\n"
     ]
    }
   ],
   "source": [
    "print(\"El numero total de tweet con mas de 140 caracteres es: \" + str(len(train_data[train_data.longitud > 140])))"
   ]
  },
  {
   "cell_type": "markdown",
   "metadata": {},
   "source": [
    "#### las razones porque los tweet tienen mas de 140 caracteres son las siguientes\n",
    "1. Codificacion, por lo cual caracteres especiales o tildes se encuentra codificados con caracteres de escape, pasando de un solo caracter a varios caracteres por simbolo.\n",
    "2. Correos, los cuales no hacian parte del tweet\n",
    "3. Menciones, a mas menciones, mayor longitud tendra el tweet"
   ]
  },
  {
   "cell_type": "code",
   "execution_count": 21,
   "metadata": {},
   "outputs": [
    {
     "name": "stdout",
     "output_type": "stream",
     "text": [
      "Texto sin ajustes: Have an invite for &quot;Healthy Dining&quot; session at Ashok Hotel today with Exec Chef R.Chopra but damn workload - will have to skip it! \n",
      "Texto ajustado: Have an invite for \"Healthy Dining\" session at Ashok Hotel today with Exec Chef R.Chopra but damn workload - will have to skip it! \n"
     ]
    }
   ],
   "source": [
    "# 16. prueba las siguientes lineas\n",
    "from bs4 import BeautifulSoup \n",
    "\n",
    "print(\"Texto sin ajustes: \" + train_data.texto[747])\n",
    "prueba = BeautifulSoup(train_data.texto[747], 'lxml')\n",
    "print(\"Texto ajustado: \" + prueba.get_text())"
   ]
  },
  {
   "cell_type": "markdown",
   "metadata": {},
   "source": [
    "#### Que diferencia hay entre el texto sin pasar por el parsing?\n",
    "Al pasar el texto por el parser, este reemplaza los caracteres de escape por caracteres normales, reduciendo la longitud del texto"
   ]
  },
  {
   "cell_type": "code",
   "execution_count": 22,
   "metadata": {},
   "outputs": [
    {
     "data": {
      "text/plain": [
       "[\"@switchfoot http://twitpic.com/2y1zl - Awww, that's a bummer.  You shoulda got David Carr of Third Day to do it. ;D\",\n",
       " \"is upset that he can't update his Facebook by texting it... and might cry as a result  School today also. Blah!\",\n",
       " '@Kenichan I dived many times for the ball. Managed to save 50%  The rest go out of bounds',\n",
       " 'my whole body feels itchy and like its on fire ',\n",
       " \"@nationwideclass no, it's not behaving at all. i'm mad. why am i here? because I can't see you all over there. \",\n",
       " '@Kwesidei not the whole crew ',\n",
       " 'Need a hug ',\n",
       " \"@LOLTrish hey  long time no see! Yes.. Rains a bit ,only a bit  LOL , I'm fine thanks , how's you ?\",\n",
       " \"@Tatiana_K nope they didn't have it \",\n",
       " '@twittera que me muera ? ']"
      ]
     },
     "execution_count": 22,
     "metadata": {},
     "output_type": "execute_result"
    }
   ],
   "source": [
    "# 17. Con las lineas anteriores construir una funcion que reciba una lista, serie o df y \n",
    "# aplique el parsing a cada un de los elementos, al final la funcion debe regregar los textos procesados\n",
    "def beautifultext(data):\n",
    "    data_ = []\n",
    "    \n",
    "    for i in range(len(data)): \n",
    "        data_.append(BeautifulSoup(data[i], 'lxml').get_text())\n",
    "    \n",
    "    return data_\n",
    "\n",
    "beautifultext(train_data.texto.head(10))"
   ]
  },
  {
   "cell_type": "code",
   "execution_count": 23,
   "metadata": {},
   "outputs": [
    {
     "name": "stdout",
     "output_type": "stream",
     "text": [
      "texto sin remover paginas web: @switchfoot http://twitpic.com/2y1zl - Awww, that's a bummer.  You shoulda got David Carr of Third Day to do it. ;D\n"
     ]
    },
    {
     "data": {
      "text/plain": [
       "\"@switchfoot  - Awww, that's a bummer.  You shoulda got David Carr of Third Day to do it. ;D\""
      ]
     },
     "execution_count": 23,
     "metadata": {},
     "output_type": "execute_result"
    }
   ],
   "source": [
    "# 18. imprimir df.TEXTO[0], las paginas web nos dan informacion sobre los sentimientos? NO\n",
    "print(\"texto sin remover paginas web: \"+ train_data.texto[0])\n",
    "\n",
    "# 19. usar re.sub(r'ACA VA LA EXPRESION REGULAR PARA ENCONTRAR PAGINAS WEB',' ',df.TEXTO[0])\n",
    "import re\n",
    "websites = r\"((http|ftp)s?://[\\w./]+)\"\n",
    "# reemplazamos los patrones asociados a paginas webs por espacios en blanco\n",
    "re.sub(websites, '', train_data.texto[0])"
   ]
  },
  {
   "cell_type": "code",
   "execution_count": 24,
   "metadata": {},
   "outputs": [
    {
     "data": {
      "text/plain": [
       "\" http://twitpic.com/2y1zl - Awww, that's a bummer.  You shoulda got David Carr of Third Day to do it. ;D\""
      ]
     },
     "execution_count": 24,
     "metadata": {},
     "output_type": "execute_result"
    }
   ],
   "source": [
    "# 20. las menciones dan informacion sobre los sentimientos? NO\n",
    "# 21. usar re.sub(r'ACA VA LA EXPRESION REGULAR PARA ENCONTRAR LAS MENCIONES',' ',df.TEXTO[0])\n",
    "menciones = r\"(\\@[\\w]+)\"\n",
    "re.sub(menciones, '', train_data.texto[0])"
   ]
  },
  {
   "cell_type": "code",
   "execution_count": 25,
   "metadata": {},
   "outputs": [
    {
     "name": "stdout",
     "output_type": "stream",
     "text": [
      "untwitter the quot trash bin quot solution doesn t work the tweet is in the indexes and propagated even if it disappears from my personal list\n"
     ]
    },
    {
     "data": {
      "text/plain": [
       "\"@switchfoot http://twitpic.com/2y1zl - Aww, that's a bummer.  You shoulda got David Carr of Third Day to do it. ;D\""
      ]
     },
     "execution_count": 25,
     "metadata": {},
     "output_type": "execute_result"
    }
   ],
   "source": [
    "# 22. vamos a eliminar lops #, numeros y signos de puntuacion. Usar re.sub(r\"[a-zA-Z]\", \" \", df.TEXTO[5204])\n",
    "print(re.sub(r\"[\\W]+\", \" \", train_data.texto[5204]).strip())\n",
    "\n",
    "# 23. explorar la siguiente expresion regular: re.sub(r\"(.)\\1{2,}\",r'\\1\\1', text5)\n",
    "re.sub(r\"(.)\\1{2,}\",r'\\1\\1', train_data.texto[0])"
   ]
  },
  {
   "cell_type": "code",
   "execution_count": 26,
   "metadata": {},
   "outputs": [],
   "source": [
    "# 24. con todo lo visto antes construir una funcion que tome todos los textos y los limpie. \n",
    "# Nota: el orden es importante.\n",
    "def cleantext(text):\n",
    "    websites = r\"((http|ftp)s?://[\\w./]+)\"\n",
    "    menciones = r\"(\\@[\\w]+)\"\n",
    "    \n",
    "    return re.sub(r\"(.)\\1{2,}\",r'\\1\\1', re.sub(r\"[\\W]+\", \" \", re.sub(menciones, '', re.sub(websites, '', text)))).strip()"
   ]
  },
  {
   "cell_type": "code",
   "execution_count": 27,
   "metadata": {},
   "outputs": [
    {
     "data": {
      "text/plain": [
       "'Aww that s a bummer You shoulda got David Carr of Third Day to do it D'"
      ]
     },
     "execution_count": 27,
     "metadata": {},
     "output_type": "execute_result"
    }
   ],
   "source": [
    "cleantext(train_data.texto[0])"
   ]
  },
  {
   "cell_type": "code",
   "execution_count": 28,
   "metadata": {},
   "outputs": [
    {
     "name": "stdout",
     "output_type": "stream",
     "text": [
      "texto original:  @switchfoot http://twitpic.com/2y1zl - Awww, that's a bummer.  You shoulda got David Carr of Third Day to do it. ;D longitud:  115\n",
      "texto transformado:  Aww that s a bummer You shoulda got David Carr of Third Day to do it D longitud:  70\n"
     ]
    }
   ],
   "source": [
    "# 25. comparar los textos limpios con los sucios\n",
    "print(\"texto original: \", train_data.texto[0], \"longitud: \", len(train_data.texto[0]))\n",
    "print(\"texto transformado: \", cleantext(train_data.texto[0]), \"longitud: \", len(cleantext(train_data.texto[0])))"
   ]
  },
  {
   "cell_type": "code",
   "execution_count": 29,
   "metadata": {},
   "outputs": [],
   "source": [
    "# 26. graficas el boxplot y el histograma del texto limpio\n",
    "# generamos una nueva lista con las longitudes de los textos transformados\n",
    "cleantext_ = [cleantext(texto) for texto in train_data.texto]\n",
    "lenghtcleantext_ = [len(texto) for texto in cleantext_]"
   ]
  },
  {
   "cell_type": "code",
   "execution_count": 30,
   "metadata": {},
   "outputs": [
    {
     "data": {
      "text/plain": [
       "<matplotlib.axes._subplots.AxesSubplot at 0x1a66863748>"
      ]
     },
     "execution_count": 30,
     "metadata": {},
     "output_type": "execute_result"
    },
    {
     "data": {
      "image/png": "[encoded data removed]",
      "text/plain": [
       "<Figure size 432x288 with 1 Axes>"
      ]
     },
     "metadata": {},
     "output_type": "display_data"
    }
   ],
   "source": [
    "sns.boxplot(lenghtcleantext_, orient=\"h\")"
   ]
  },
  {
   "cell_type": "code",
   "execution_count": 31,
   "metadata": {},
   "outputs": [
    {
     "data": {
      "text/plain": [
       "<matplotlib.axes._subplots.AxesSubplot at 0x1603f7be0>"
      ]
     },
     "execution_count": 31,
     "metadata": {},
     "output_type": "execute_result"
    },
    {
     "data": {
      "image/png": "[encoded data removed]",
      "text/plain": [
       "<Figure size 432x288 with 1 Axes>"
      ]
     },
     "metadata": {},
     "output_type": "display_data"
    }
   ],
   "source": [
    "sns.distplot(lenghtcleantext_, kde=True)"
   ]
  },
  {
   "cell_type": "code",
   "execution_count": 32,
   "metadata": {},
   "outputs": [],
   "source": [
    "train_data[\"texto\"] = cleantext_\n",
    "train_data[\"longitud\"] = lenghtcleantext_\n",
    "\n",
    "train_data = train_data[train_data.longitud <= 140]"
   ]
  },
  {
   "cell_type": "code",
   "execution_count": 33,
   "metadata": {},
   "outputs": [
    {
     "name": "stderr",
     "output_type": "stream",
     "text": [
      "[nltk_data] Downloading package punkt to /Users/juan.rave/nltk_data...\n",
      "[nltk_data]   Package punkt is already up-to-date!\n",
      "[nltk_data] Downloading package wordnet to\n",
      "[nltk_data]     /Users/juan.rave/nltk_data...\n",
      "[nltk_data]   Package wordnet is already up-to-date!\n"
     ]
    }
   ],
   "source": [
    "# lematizamos los tweets, generando de nuevo los nuevos textos\n",
    "import nltk\n",
    "nltk.download('punkt')\n",
    "nltk.download('wordnet')\n",
    "  \n",
    "from nltk.stem import WordNetLemmatizer\n",
    "\n",
    "wordnet_lemmatizer = WordNetLemmatizer()\n",
    "\n",
    "def lematizetext(text):\n",
    "    sentence_words = nltk.word_tokenize(text)\n",
    "  \n",
    "    stem_sentence=[]\n",
    "    \n",
    "    for word in sentence_words:\n",
    "        stem_sentence.append(wordnet_lemmatizer.lemmatize(word, pos=\"v\"))\n",
    "        stem_sentence.append(\" \")\n",
    "    return \"\".join(stem_sentence)\n",
    "\n",
    "cleantext_ = [lematizetext(texto) for texto in train_data.texto]\n",
    "train_data[\"texto\"] = cleantext_"
   ]
  },
  {
   "cell_type": "code",
   "execution_count": 34,
   "metadata": {},
   "outputs": [],
   "source": [
    "# 27. sobre el texto limpio aplicar CountVectorizer y TfidfVectorizer, \n",
    "# para obtener dos modelos de representacion de texto, no sin antes eliminar las stopwords\n",
    "from sklearn.feature_extraction.text import CountVectorizer\n",
    "from sklearn.feature_extraction.text import TfidfVectorizer\n",
    "from sklearn.feature_extraction.text import TfidfTransformer\n",
    "\n",
    "# convertimos texto en un vector de conteos eliminando los stopwords\n",
    "count_vectorizer = CountVectorizer(min_df=5, ngram_range=(1,3),\n",
    "                       strip_accents='unicode',\n",
    "                       lowercase =True, analyzer='word', token_pattern=r'\\w+',\n",
    "                       stop_words = 'english')\n",
    "#X_train_counts = count_vectorizer.fit_transform(train_data.texto)\n",
    "\n",
    "# convertimos el texto en un vector de frecuencia eliminando los stopwords\n",
    "tfidf_vectorizer = TfidfVectorizer(min_df=5, ngram_range=(1,3),\n",
    "                        strip_accents='unicode',\n",
    "                        lowercase =True, analyzer='word', token_pattern=r'\\w+',\n",
    "                        use_idf=True, smooth_idf=True, sublinear_tf=True, \n",
    "                        stop_words = 'english')\n",
    "X_train_tfidf = tfidf_vectorizer.fit_transform(train_data.texto)"
   ]
  },
  {
   "cell_type": "code",
   "execution_count": 39,
   "metadata": {},
   "outputs": [
    {
     "name": "stdout",
     "output_type": "stream",
     "text": [
      "341720\n"
     ]
    }
   ],
   "source": [
    "# 28. cuantos descriptores tenemos? ejemplo: print(len(count_vectorizer.get_feature_names()))\n",
    "print(len(tfidf_vectorizer.get_feature_names()))"
   ]
  },
  {
   "cell_type": "code",
   "execution_count": 40,
   "metadata": {},
   "outputs": [
    {
     "data": {
      "text/plain": [
       "(1118899, 240263)"
      ]
     },
     "execution_count": 40,
     "metadata": {},
     "output_type": "execute_result"
    }
   ],
   "source": [
    "# 29. entrena 3 modelos y ajusta sus hiperparametros, usando lo visto en la reunion anterior. \n",
    "# separamos el conjunto de datos en entrenamiento y pruebas\n",
    "from sklearn.model_selection import train_test_split\n",
    "\n",
    "y = train_data.sentimiento\n",
    "X_train, X_test, y_train, y_test = train_test_split(train_data.texto, y, test_size=0.30, random_state=5)\n",
    "\n",
    "tfidf_vectorizer = TfidfVectorizer(min_df=5, ngram_range=(1,3),\n",
    "                        strip_accents='unicode',\n",
    "                        lowercase =True, analyzer='word', token_pattern=r'\\w+',\n",
    "                        use_idf=True, smooth_idf=True, sublinear_tf=True, \n",
    "                        stop_words = 'english')\n",
    "X_train_tfidf = tfidf_vectorizer.fit_transform(X_train)\n",
    "X_test_tfidf = tfidf_vectorizer.transform(X_test)\n",
    "\n",
    "yr_train = [1 if r == 4 else 0 for r in y_train]\n",
    "yr_test = [1 if r == 4 else 0 for r in y_test]\n",
    "\n",
    "X_train_tfidf.shape"
   ]
  },
  {
   "cell_type": "code",
   "execution_count": 41,
   "metadata": {},
   "outputs": [
    {
     "name": "stdout",
     "output_type": "stream",
     "text": [
      "Multinomial naive bayes accuracy: 0.7731252958632324\n",
      "              precision    recall  f1-score   support\n",
      "\n",
      "    Negativo       0.78      0.76      0.77    239865\n",
      "    Positivo       0.77      0.78      0.78    239664\n",
      "\n",
      "    accuracy                           0.77    479529\n",
      "   macro avg       0.77      0.77      0.77    479529\n",
      "weighted avg       0.77      0.77      0.77    479529\n",
      "\n"
     ]
    }
   ],
   "source": [
    "# modelo 1 Native bayes\n",
    "from sklearn.naive_bayes import MultinomialNB\n",
    "from sklearn import metrics\n",
    "from sklearn.metrics import accuracy_score\n",
    "\n",
    "target_names = ['Negativo', 'Positivo']\n",
    "\n",
    "nb = MultinomialNB()\n",
    "nb.fit(X_train_tfidf, yr_train)\n",
    "predictions = nb.predict(X_test_tfidf)\n",
    "\n",
    "print(\"Multinomial naive bayes accuracy: {0}\".format(accuracy_score(yr_test, predictions) ))\n",
    "print(metrics.classification_report(yr_test, predictions, target_names=target_names))"
   ]
  },
  {
   "cell_type": "code",
   "execution_count": 42,
   "metadata": {},
   "outputs": [
    {
     "name": "stdout",
     "output_type": "stream",
     "text": [
      "SGD: 0.7569281524162251\n",
      "              precision    recall  f1-score   support\n",
      "\n",
      "    Negativo       0.79      0.70      0.74    239865\n",
      "    Positivo       0.73      0.81      0.77    239664\n",
      "\n",
      "    accuracy                           0.76    479529\n",
      "   macro avg       0.76      0.76      0.76    479529\n",
      "weighted avg       0.76      0.76      0.76    479529\n",
      "\n"
     ]
    }
   ],
   "source": [
    "# modelo 2 \n",
    "from sklearn.linear_model import SGDClassifier\n",
    "\n",
    "sgc = SGDClassifier()\n",
    "sgc.fit(X_train_tfidf, yr_train)\n",
    "predictions = sgc.predict(X_test_tfidf)\n",
    "\n",
    "print(\"SGD: {0}\".format(accuracy_score(yr_test, predictions) ))\n",
    "print(metrics.classification_report(yr_test, predictions, target_names=target_names))"
   ]
  },
  {
   "cell_type": "code",
   "execution_count": 43,
   "metadata": {},
   "outputs": [
    {
     "name": "stdout",
     "output_type": "stream",
     "text": [
      "LinearSVC: 0.7594702301633478\n",
      "              precision    recall  f1-score   support\n",
      "\n",
      "    Negativo       0.77      0.74      0.76    239865\n",
      "    Positivo       0.75      0.78      0.76    239664\n",
      "\n",
      "    accuracy                           0.76    479529\n",
      "   macro avg       0.76      0.76      0.76    479529\n",
      "weighted avg       0.76      0.76      0.76    479529\n",
      "\n"
     ]
    }
   ],
   "source": [
    "# modelo 3 SVC\n",
    "from sklearn.svm import LinearSVC\n",
    "\n",
    "C=5\n",
    "svc = LinearSVC(C=C)\n",
    "svc.fit(X_train_tfidf, yr_train)\n",
    "predictions = svc.predict(X_test_tfidf)\n",
    "\n",
    "print(\"LinearSVC: {0}\".format(accuracy_score(yr_test, predictions)))\n",
    "print(metrics.classification_report(yr_test, predictions, target_names=target_names))"
   ]
  },
  {
   "cell_type": "code",
   "execution_count": null,
   "metadata": {},
   "outputs": [],
   "source": [
    "# 30. aplica PCA y usando la regla de dedo selecciona los nuevos descriptores (regresar a la charla de reduccion de la dimension)\n",
    "from sklearn.decomposition import TruncatedSVD\n",
    "\n",
    "# se hace necesario usar Singular value decomposition (SVD), debido a que la matrix de las caracteristicas \n",
    "# es dispersa, y PCA no puede operar sobre este tipo de matrices.\n",
    "\n",
    "# Esto no se pudo correr debido a que a pesar de tener 25 Gb de memoria no fue posible realizar el entreganmiento \n",
    "# y transformacion de los datos\n",
    "\n",
    "# corremos Truncate SVD con todas las caracteristicas del dataset menos 1\n",
    "svd = TruncatedSVD(n_components=X_train_tfidf.shape[1]-1)\n",
    "X_train_tfidf_svd = svd.fit_transform(X_train_tfidf) \n",
    "\n",
    "# creamos una lista con las explained variances\n",
    "tsvd_var_ratios = tsvd.explained_variance_ratio_\n",
    "\n",
    "print(\"svd.components_:\", svd.components_)\n",
    "print(\"svd.explained_variance_:\", svd.explained_variance_)\n"
   ]
  },
  {
   "cell_type": "code",
   "execution_count": null,
   "metadata": {},
   "outputs": [],
   "source": [
    "# para conocer el numero optimo de componentes, realizamos un ciclo para graficar la proporcion de varianza \n",
    "# para cada numero de componentes usando Truncated SVD\n",
    "n_comp = [5000,10000,20000,50000,100000,150000,200000] # list containing different values of components\n",
    "explained = [] \n",
    "for x in n_comp:\n",
    "    svd = TruncatedSVD(n_components=x)\n",
    "    svd.fit(X_train_tfidf)\n",
    "    explained.append(svd.explained_variance_ratio_.sum())\n",
    "    print(\"Number of components = %r and explained variance = %r\"%(x,svd.explained_variance_ratio_.sum()))\n",
    "\n",
    "plt.plot(n_comp, explained)\n",
    "plt.xlabel('Number of components')\n",
    "plt.ylabel(\"Explained Variance\")\n",
    "plt.title(\"Plot of Number of components v/s explained variance\")\n",
    "plt.show()\n"
   ]
  },
  {
   "cell_type": "code",
   "execution_count": 43,
   "metadata": {},
   "outputs": [],
   "source": [
    "# tambien, se crea una funcion para obtener la cantidad de caracteristicas o componentes que capturen la proporcion\n",
    "# de varianza del umbral enviado como parametro\n",
    "def select_n_components(var_ratio, goal_var: float) -> int:\n",
    "    total_variance = 0.0\n",
    "    n_components = 0\n",
    "    \n",
    "    # por cada caracteristica\n",
    "    for explained_variance in var_ratio:\n",
    "        # sumamos explained variance al total\n",
    "        total_variance += explained_variance\n",
    "        # incrementamos en 1 el numero de componentes\n",
    "        n_components += 1\n",
    "        \n",
    "        # si alcanzamos el umbral\n",
    "        if total_variance >= goal_var:\n",
    "            break\n",
    "            \n",
    "    return n_components\n",
    "\n",
    "select_n_components(tsvd_var_ratios, 0.8)"
   ]
  },
  {
   "cell_type": "code",
   "execution_count": 125,
   "metadata": {},
   "outputs": [
    {
     "name": "stderr",
     "output_type": "stream",
     "text": [
      "/Users/juan.rave/.local/lib/python3.7/site-packages/sklearn/model_selection/_split.py:1978: FutureWarning: The default value of cv will change from 3 to 5 in version 0.22. Specify it explicitly to silence this warning.\n",
      "  warnings.warn(CV_WARNING, FutureWarning)\n"
     ]
    },
    {
     "name": "stdout",
     "output_type": "stream",
     "text": [
      "gs_clf.best_score_ 0.7726220150344222\n",
      "gs_clf.best_params_ {'tfidf__max_features': 240000, 'tfidf__min_df': 1, 'tfidf__use_idf': False}\n"
     ]
    }
   ],
   "source": [
    "# 31. repite el paso 28 con los nuevos descriptores.\n",
    "# no fue posible el calculo de los nuevos descriptores, al no utilizar TruncateSVD\n",
    "from sklearn.pipeline import Pipeline\n",
    "\n",
    "# generamos un pipeline para nuestra corrida el cual tiene como objeto realizar\n",
    "# la transformacion y entrenar el modelo con NB\n",
    "text_pp = Pipeline([('tfidf', TfidfVectorizer(min_df=5, ngram_range=(1,3),\n",
    "                                strip_accents='unicode',\n",
    "                                lowercase =True, analyzer='word', token_pattern=r'\\w+',\n",
    "                                use_idf=True, smooth_idf=True, sublinear_tf=True, \n",
    "                                stop_words = 'english')),\n",
    "                    #('transform', TruncatedSVD(n_components=5000)),\n",
    "                     ('nb', MultinomialNB()), ])\n",
    "\n",
    "# optimizamos el modelo a traves de Grid Search\n",
    "from sklearn.model_selection import GridSearchCV\n",
    "parameters = {'tfidf__min_df': (1, 2, 3, 5, 10),\n",
    "              'tfidf__use_idf': (True, False),\n",
    "              'tfidf__smooth_idf': (True, False),\n",
    "              'tfidf__max_features': (50000, 100000, 150000, 200000, 240000),\n",
    "              'nb__alpha': (0.0, 1.0),\n",
    "              'nb__fit_prior': (True, False),\n",
    "#              'transform__n_components': (5000, 10000, 20000, 50000),\n",
    "}\n",
    "\n",
    "gs_clf = GridSearchCV(text_pp, parameters, n_jobs=-1)\n",
    "gs_clf = gs_clf.fit(X_train, yr_train)\n",
    "\n",
    "print(\"gs_clf.best_score_\", gs_clf.best_score_)\n",
    "print(\"gs_clf.best_params_\", gs_clf.best_params_)"
   ]
  },
  {
   "cell_type": "code",
   "execution_count": 126,
   "metadata": {},
   "outputs": [
    {
     "name": "stdout",
     "output_type": "stream",
     "text": [
      "accuracy_score: 0.7755464215928547\n",
      "              precision    recall  f1-score   support\n",
      "\n",
      "    Negativo       0.78      0.77      0.77    239865\n",
      "    Positivo       0.77      0.78      0.78    239664\n",
      "\n",
      "    accuracy                           0.78    479529\n",
      "   macro avg       0.78      0.78      0.78    479529\n",
      "weighted avg       0.78      0.78      0.78    479529\n",
      "\n"
     ]
    }
   ],
   "source": [
    "# redifinimos nuestro pipeline para vectorizar y entrenamos nuestro modelo con el modelo de regresion lineal MultinomialNB, de acuerdo a los mejores parametros\n",
    "# entregados por GridSearch\n",
    "text_pp = Pipeline([('tfidf', TfidfVectorizer(min_df=1, ngram_range=(1,3),\n",
    "                                strip_accents='unicode', max_features=240000,\n",
    "                                lowercase =True, analyzer='word', token_pattern=r'\\w+',\n",
    "                                use_idf=False, smooth_idf=True, sublinear_tf=True, \n",
    "                                stop_words = 'english')),\n",
    "                     ('nb', MultinomialNB(alpha=1.0, fit_prior=True)), ])\n",
    "\n",
    "text_pp = text_pp.fit(X_train, yr_train)\n",
    "predictions = text_pp.predict(X_test)\n",
    "\n",
    "print(\"accuracy_score: {0}\".format(accuracy_score(yr_test, predictions)))\n",
    "print(metrics.classification_report(yr_test, predictions, target_names=target_names))"
   ]
  },
  {
   "cell_type": "code",
   "execution_count": 127,
   "metadata": {},
   "outputs": [],
   "source": [
    "# 32. selecciona tu mejor modelo y guardalo \n",
    "import pickle \n",
    "  \n",
    "# guardamos el modelo entrenado como pickle string. \n",
    "pkl_filename = \"analisis_sentimientos.pkl\"\n",
    "with open(pkl_filename, 'wb') as file:\n",
    "    pickle.dump(nb, file)\n",
    "    \n",
    "# cargamos el pickled model \n",
    "with open(pkl_filename, 'rb') as file:\n",
    "    nb_from_pickle = pickle.load(file)\n",
    "    \n",
    "# usamos el pickle modelo para predecir\n",
    "#nb_from_pickle.predict(X_test)"
   ]
  },
  {
   "cell_type": "code",
   "execution_count": 130,
   "metadata": {},
   "outputs": [],
   "source": [
    "# 33. usando la API de Twitter descarga 100 tweets sobre un politico, artista, marca o empresa\n",
    "# instalamos la libreria\n",
    "#pip install -- tweepy\n",
    "\n",
    "import tweepy\n",
    "\n",
    "consumer_key=\"QHNHbZR7jxHMf7kC1N8hQ3SRC\"\n",
    "consumer_secret=\"3k6XmX63alXVy2ENg5VzFp9lsh3IJw1AHxB34eFO3zabg4JNzE\"\n",
    "\n",
    "access_token=\"293500908-rOUKJrogROUzRFqfoIeAnfTEXGkNiTkitd0srDcU\"\n",
    "access_token_secret=\"tjvx1UgOo2i78LBOYGrUe7C27qxHOPazDSBSaxLhIf8SC\""
   ]
  },
  {
   "cell_type": "code",
   "execution_count": 129,
   "metadata": {},
   "outputs": [
    {
     "name": "stdout",
     "output_type": "stream",
     "text": [
      "Indique el criterio de analisis: Ivan Duque\n"
     ]
    }
   ],
   "source": [
    "auth=tweepy.OAuthHandler(consumer_key,consumer_secret)\n",
    "auth.set_access_token(access_token,access_token_secret)\n",
    "\n",
    "api=tweepy.API(auth,wait_on_rate_limit=True)\n",
    "\n",
    "query = input(\"Indique el criterio de analisis: \")\n",
    "\n",
    "max_tweets = 100\n",
    "\n",
    "tweets=[]\n",
    "for tweet_info in tweepy.Cursor(api.search, q=query, lang = 'en', tweet_mode='extended').items(max_tweets):\n",
    "    if 'retweeted_status' in dir(tweet_info):\n",
    "        tweet=tweet_info.retweeted_status.full_text\n",
    "        tweets.append(tweet)\n",
    "    else:\n",
    "        tweet=tweet_info.full_text\n",
    "        tweets.append(tweet)"
   ]
  },
  {
   "cell_type": "code",
   "execution_count": 138,
   "metadata": {},
   "outputs": [
    {
     "name": "stdout",
     "output_type": "stream",
     "text": [
      "[0, 0, 1, 1, 0, 0, 1, 0, 1, 0, 1, 0, 0, 0, 0, 1, 1, 0, 0, 0, 1, 1, 1, 1, 0, 1, 0, 1, 1, 1, 1, 0, 1, 1, 1, 1, 1, 1, 1, 1, 1, 1, 1, 0, 0, 0, 1, 0, 1, 1, 1, 0, 1, 0, 0, 1, 0, 1, 1, 1, 1, 1, 1, 1, 1, 1, 1, 1, 0, 1, 0, 0, 0, 1, 1, 0, 0, 0, 0, 0, 0, 0, 0, 0, 0, 0, 0, 0, 0, 0, 0, 0, 0, 0, 0, 0, 0, 0, 0, 0]\n"
     ]
    }
   ],
   "source": [
    "# 34. aplicale la funcion de preprocesamiento, recuerda que si en tu preprocesamiento usaste PCA, entonces, \n",
    "# aca tambien lo debes hacer.\n",
    "\n",
    "# limpiamos el texto de urls y menciones a traves de nuestra funcion y expresiones regulares\n",
    "cleantext_ = [cleantext(texto) for texto in tweets]\n",
    "# lematizamos el texto\n",
    "cleantext_ = [lematizetext(texto) for texto in cleantext_]\n",
    "\n",
    "predictions = text_pp.predict(cleantext_)\n",
    "\n",
    "print(list(predictions))"
   ]
  },
  {
   "cell_type": "code",
   "execution_count": 139,
   "metadata": {},
   "outputs": [
    {
     "name": "stdout",
     "output_type": "stream",
     "text": [
      "Porcentaje sentimientos positivos para Ivan Duque es: 47%\n",
      "Porcentaje sentimientos negativos: 53%\n"
     ]
    }
   ],
   "source": [
    "# 35. calcula el porcentaje de sentimientos positivos y negativos sobre tus elecciones del punto 32.\n",
    "print('Porcentaje sentimientos positivos para ' + query + \" es: \" + str(len(predictions[predictions == 1])) + '%')\n",
    "print('Porcentaje sentimientos negativos: '+ str(len(predictions[predictions == 0]))+'%')"
   ]
  },
  {
   "cell_type": "code",
   "execution_count": 140,
   "metadata": {},
   "outputs": [],
   "source": [
    "# obtenemos los indices para los tweets positivos\n",
    "result = np.where(predictions == 1)"
   ]
  },
  {
   "cell_type": "code",
   "execution_count": 141,
   "metadata": {},
   "outputs": [
    {
     "name": "stdout",
     "output_type": "stream",
     "text": [
      "[ 2 ] : SDGSummit Iván Duque President of Colombia We organize our development agenda in a 4 year Plan call Pact for Colombia Pact for equity align to the SDGs We focus on SDG10 because social justice be relevant and necessary \n",
      "[ 3 ] : The president of Colombia Ivan Duque speak at the Latin American Venture Capital Assn annual meet in NYC Delivering practical and real support and endorsement for foster foreign Private Equity investment in his country \n",
      "[ 6 ] : Colombian President Ivan duque and Head David Malpass speak about growth opportunities in Latin America touch on trade climatechange and regional issue such as the Amazon and Venezuela Concordia19 \n",
      "[ 8 ] : Colombian President Ivan duque and Head David Malpass speak about growth opportunities in Latin America touch on trade climatechange and regional issue such as the Amazon and Venezuela Concordia19 \n",
      "[ 10 ] : We be see an interest change regard Venezuela Last year Maduro come to the UNGA as if nothing have happen Today we have a coalition of more than 50 countries that have put a lock to Maduro H E Ivan Duque President of Colombia \n",
      "[ 15 ] : In Bogota Ivanka Trump speak to 40 Colombian women who receive State Dept fund scholarships to study entrepreneurship The women run small businesses coffee clean beauty shoe etc but want to expand State aid tell us Trump meet with President Iván Duque later \n",
      "[ 16 ] : Colombian President Ivan Duque Credits US Trade Deal for Economic Boost Colombia be emerge as one of Latin America s key economies thank in part to a 2012 trade agreement reach with the United States the country s President Ivan Duque say Tuesday \n",
      "[ 20 ] : The president of Colombia Ivan Duque speak at the Latin American Venture Capital Assn annual meet in NYC Delivering practical and real support and endorsement for foster foreign Private Equity investment in his country \n",
      "[ 21 ] : The president of Colombia Ivan Duque speak at the Latin American Venture Capital Assn annual meet in NYC Delivering practical and real support and endorsement for foster foreign Private Equity investment in his country \n",
      "[ 22 ] : The president of Colombia Ivan Duque speak at the Latin American Venture Capital Assn annual meet in NYC Delivering practical and real support and endorsement for foster foreign Private Equity investment in his country \n",
      "[ 23 ] : The president of Colombia Ivan Duque speak at the Latin American Venture Capital Assn annual meet in NYC Delivering practical and real support and endorsement for foster foreign Private Equity investment in his country \n",
      "[ 25 ] : It seem like the map of South America be under report especially give Jair Bolsonaro s rhetoric or Ivan Duque amp Sebastian Pinera s leadership Chances be those map be much more dot than we know \n",
      "[ 27 ] : Our sit down with two national leaders Colombia s President Ivan Duque Marquez and Dutch Prime Minister Mark Rutte ahead of UNGA Listen here \n",
      "[ 28 ] : Our sit down with two national leaders Colombia s President Ivan Duque Marquez and Dutch Prime Minister Mark Rutte ahead of UNGA Listen here \n",
      "[ 29 ] : Our sit down with two national leaders Colombia s President Ivan Duque Marquez and Dutch Prime Minister Mark Rutte ahead of UNGA Listen here \n",
      "[ 30 ] : Our sit down with two national leaders Colombia s President Ivan Duque Marquez and Dutch Prime Minister Mark Rutte ahead of UNGA Listen here \n",
      "[ 32 ] : While there s a break from UNGA here s the first episode of our United Nations pop up podcast talk to the president of Colombia Ivan Duque and Mark Rutte the Dutch prime minister about their key message today \n",
      "[ 33 ] : At UNGA Colombian President Ivan Duque call for more support for Venezuelan migrants from the international community \n",
      "[ 34 ] : Ivan Duque President of Colombia describe his vision of biodiver cities cities that have a more involve role in protect and improve their biodiversity sdi19 \n",
      "[ 35 ] : On achieve renewable energy goals Ivan Duque President of Colombia say if we really want to be successful we have to start with the energy sector sdi19 \n",
      "[ 36 ] : Live now How can we ensure a sustainable future for the Amazon sdi19 \n",
      "[ 37 ] : In two days Carlos Enrique Moreno Mejía special adviser to Colombian President Ivan Duque for a public forum discuss the impact of the private sector in the implementation of Colombia s 2016 peace agreement 2 00 pm in Jenkins Nanovic Halls \n",
      "[ 38 ] : While there s a break from UNGA here s the first episode of our United Nations pop up podcast talk to the president of Colombia Ivan Duque and Mark Rutte the Dutch prime minister about their key message today \n",
      "[ 39 ] : While there s a break from UNGA here s the first episode of our United Nations pop up podcast talk to the president of Colombia Ivan Duque and Mark Rutte the Dutch prime minister about their key message today \n",
      "[ 40 ] : While there s a break from UNGA here s the first episode of our United Nations pop up podcast talk to the president of Colombia Ivan Duque and Mark Rutte the Dutch prime minister about their key message today \n",
      "[ 41 ] : While there s a break from UNGA here s the first episode of our United Nations pop up podcast talk to the president of Colombia Ivan Duque and Mark Rutte the Dutch prime minister about their key message today \n",
      "[ 42 ] : While there s a break from UNGA here s the first episode of our United Nations pop up podcast talk to the president of Colombia Ivan Duque and Mark Rutte the Dutch prime minister about their key message today \n",
      "[ 46 ] : David Smolansky Venezuelan coordinator before the Organization of American States OAS inform that Iván Duque president of Colombia will sign a decree to give an adequate immigration status to Venezuelans without paper that have a job proposal \n",
      "[ 48 ] : Join Carlos Enrique Moreno Mejía special adviser to Colombian President Ivan Duque for a public forum discuss the impact of the private sector in the implementation of Colombia s 2016 peace agreement Sept 26 at 2 pm in Jenkins Nanovic Halls \n",
      "[ 49 ] : A topic so close to our community w Qld fire an extraordinary meet w Colombian President Iván Duque region s efforts amp challenge in Amazon Basin rise international concern for deforestation ongoing dialogue to ensure a sustainable future for the Amazon qleensland \n",
      "[ 50 ] : The sub president Ivan Duque lie to world in the he support the mine in moorlands and fracking NewYork UNClimateActionSummit UNClimateSummit \n",
      "[ 52 ] : Ivan Duque President of Colombia describe his vision of biodiver cities cities that have a more involve role in protect and improve their biodiversity sdi19 \n",
      "[ 55 ] : On achieve renewable energy goals Ivan Duque President of Colombia say if we really want to be successful we have to start with the energy sector sdi19 \n",
      "[ 57 ] : President of Colombia Iván Duque speak at the Sustainable Development Impact summit on Latest Amazon issue and Climatechange \n",
      "[ 58 ] : While we wait for the U N General Assembly to start here s the first episode of our U N special series podcast In today s dispatch talk to Colombia s President Ivan Duque Marquez and Dutch Prime Minister Mark Rutte \n",
      "[ 59 ] : Live now How can we ensure a sustainable future for the Amazon sdi19 \n",
      "[ 60 ] : While we wait for the U N General Assembly to start here s the first episode of our U N special series podcast In today s dispatch talk to Colombia s President Ivan Duque Marquez and Dutch Prime Minister Mark Rutte \n",
      "[ 61 ] : Live now How can we ensure a sustainable future for the Amazon sdi19 \n",
      "[ 62 ] : Live now How can we ensure a sustainable future for the Amazon sdi19 \n",
      "[ 63 ] : Live now How can we ensure a sustainable future for the Amazon sdi19 \n",
      "[ 64 ] : While we wait for the U N General Assembly to start here s the first episode of our U N special series podcast In today s dispatch talk to Colombia s President Ivan Duque Marquez and Dutch Prime Minister Mark Rutte \n",
      "[ 65 ] : Senator Menendez host the President of Colombia Iván Duque Márquez for a forum on relations between our two countries at the Frank J Cicarell Academy on Sunday \n",
      "[ 66 ] : Long way Still furious forceful firm Rescue your generation and with it the Planet Do not be silence Do not trust people like Iván Duque they just lie \n",
      "[ 67 ] : Long way Still furious forceful firm Rescue your generation and with it the Planet Do not be silence Do not trust people like Iván Duque they just lie \n",
      "[ 69 ] : Long way Still furious forceful firm Rescue your generation and with it the Planet Do not be silence Do not trust people like Iván Duque they just lie \n",
      "[ 73 ] : Ivan Duque Howard Buffett and Joshua Goodman talk about the role of private capital as a mechanism in sustain peace at Concordia19 1 4 \n",
      "[ 74 ] : Colombian President Ivan Duque to GR GREECE Shaped Me Greece news \n"
     ]
    }
   ],
   "source": [
    "# imprimimos el listado de los tweets con sentimiento positivo\n",
    "for index in result[0]:\n",
    "    print('[', index, ']', \":\", cleantext_[index])"
   ]
  }
 ],
 "metadata": {
  "kernelspec": {
   "display_name": "Python 3",
   "language": "python",
   "name": "python3"
  },
  "language_info": {
   "codemirror_mode": {
    "name": "ipython",
    "version": 3
   },
   "file_extension": ".py",
   "mimetype": "text/x-python",
   "name": "python",
   "nbconvert_exporter": "python",
   "pygments_lexer": "ipython3",
   "version": "3.7.3"
  }
 },
 "nbformat": 4,
 "nbformat_minor": 2
}
